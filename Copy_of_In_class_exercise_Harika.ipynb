{
  "nbformat": 4,
  "nbformat_minor": 0,
  "metadata": {
    "colab": {
      "name": "Copy of In_class_exercise_01.ipynb",
      "provenance": [],
      "collapsed_sections": [],
      "include_colab_link": true
    },
    "kernelspec": {
      "name": "python3",
      "display_name": "Python 3"
    }
  },
  "cells": [
    {
      "cell_type": "markdown",
      "metadata": {
        "id": "view-in-github",
        "colab_type": "text"
      },
      "source": [
        "<a href=\"https://colab.research.google.com/github/RadhavaramHarika/Harika_INFO5731_Spring2020/blob/master/Copy_of_In_class_exercise_Harika.ipynb\" target=\"_parent\"><img src=\"https://colab.research.google.com/assets/colab-badge.svg\" alt=\"Open In Colab\"/></a>"
      ]
    },
    {
      "cell_type": "markdown",
      "metadata": {
        "id": "DymRJbxDBCnf",
        "colab_type": "text"
      },
      "source": [
        "# **The first In-class-exercise**"
      ]
    },
    {
      "cell_type": "markdown",
      "metadata": {
        "id": "03jb4GZsBkBS",
        "colab_type": "text"
      },
      "source": [
        "(1) Write a Python program to calculate the length of a string."
      ]
    },
    {
      "cell_type": "code",
      "metadata": {
        "id": "PWWHKwgQJ1qi",
        "colab_type": "code",
        "outputId": "96aa63b7-a96c-40d4-d2de-01cd9dab7f97",
        "colab": {
          "base_uri": "https://localhost:8080/",
          "height": 51
        }
      },
      "source": [
        "\n",
        "# Using funtion to calculate the length of a string\n",
        "def stringLength(string_var):\n",
        "  return len(string_var)\n",
        "\n",
        "def str_calc_length(samp_str):\n",
        "  count = 0\n",
        "  for i in samp_str:\n",
        "    count += 1\n",
        "  return count\n",
        "\n",
        "# Creating an input string and calling above function\n",
        "example_string= \"Hello World\"\n",
        "print('Length of the string is :', str_calc_length(example_string))\n",
        "print('Length of the string using len func :', stringLength(example_string))"
      ],
      "execution_count": 0,
      "outputs": [
        {
          "output_type": "stream",
          "text": [
            "Length of the string is : 11\n",
            "Length of the string using len func : 11\n"
          ],
          "name": "stdout"
        }
      ]
    },
    {
      "cell_type": "markdown",
      "metadata": {
        "id": "jJDe71iLB616",
        "colab_type": "text"
      },
      "source": [
        "(2) Write a Python program to count the number of characters in a string.\n",
        "\n",
        "Sample String : 'google.com‘, \n",
        "\n",
        "Expected Result : {'o': 3, 'g': 2, '.': 1, 'e': 1, 'l': 1, 'm': 1, 'c': 1}"
      ]
    },
    {
      "cell_type": "code",
      "metadata": {
        "id": "YaGLbSHHB8Ej",
        "colab_type": "code",
        "outputId": "a830d39f-0ad2-4451-a3df-096b082d5716",
        "colab": {
          "base_uri": "https://localhost:8080/",
          "height": 34
        }
      },
      "source": [
        "# write your answer here\n",
        "\n",
        "# Using funtion to count the number of characters in a string\n",
        "def numberOfChars(name_String):\n",
        "  char_dict = dict()\n",
        "  for i in name_String:\n",
        "    count = 0\n",
        "    for s in name_String:\n",
        "      if i == s:\n",
        "        count += 1\n",
        "    char_dict[i] = count\n",
        "  return char_dict\n",
        "\n",
        "# Declaring an input string and calling above function\n",
        "string1 = \"google.com\"\n",
        "print(\"Expected Result:\", numberOfChars(string1))\n"
      ],
      "execution_count": 0,
      "outputs": [
        {
          "output_type": "stream",
          "text": [
            "Expected Result: {'g': 2, 'o': 3, 'l': 1, 'e': 1, '.': 1, 'c': 1, 'm': 1}\n"
          ],
          "name": "stdout"
        }
      ]
    },
    {
      "cell_type": "code",
      "metadata": {
        "id": "MtKskTzbCLaU",
        "colab_type": "code",
        "outputId": "ee529bea-16ff-41e9-9be3-3e12573b0f93",
        "colab": {
          "base_uri": "https://localhost:8080/",
          "height": 34
        }
      },
      "source": [
        "# write your answer here\n",
        "\n",
        "# Using funtion to count the number of characters in a string\n",
        "def numberOfChars(name_String):\n",
        "  char_dict = dict()\n",
        "  for i in name_String:\n",
        "    count = 0\n",
        "    for s in name_String:\n",
        "      if i == s:\n",
        "        count += 1\n",
        "    char_dict[i] = count\n",
        "  return char_dict\n",
        "\n",
        "# Declaring an input string and calling above function\n",
        "string1 = \"google.com\"\n",
        "print(\"result:\", numberOfChars(string1))\n"
      ],
      "execution_count": 0,
      "outputs": [
        {
          "output_type": "stream",
          "text": [
            "result: {'g': 2, 'o': 3, 'l': 1, 'e': 1, '.': 1, 'c': 1, 'm': 1}\n"
          ],
          "name": "stdout"
        }
      ]
    },
    {
      "cell_type": "markdown",
      "metadata": {
        "id": "55W9AMdXCSpV",
        "colab_type": "text"
      },
      "source": [
        "(3) Write a Python program to sum all the items in a list"
      ]
    },
    {
      "cell_type": "code",
      "metadata": {
        "id": "I57NXsauCec2",
        "colab_type": "code",
        "outputId": "036ae343-fae6-4626-af2a-6a0f9dd9f6fb",
        "colab": {
          "base_uri": "https://localhost:8080/",
          "height": 51
        }
      },
      "source": [
        "# write your answer here\n",
        "\n",
        "# Using funtion to sum all the items in a list\n",
        "def sumOfList(eg_List):\n",
        "  sum = 0\n",
        "  for i in eg_List:\n",
        "    sum = sum+i\n",
        "  return sum;\n",
        "\n",
        "# Creating an input list and calling above function\n",
        "list1 = [i for i in range(1,16)]\n",
        "print('Given list : ', list1)\n",
        "print('Sum of all items in above list : ', sumOfList(list1))"
      ],
      "execution_count": 0,
      "outputs": [
        {
          "output_type": "stream",
          "text": [
            "Given list :  [1, 2, 3, 4, 5, 6, 7, 8, 9, 10, 11, 12, 13, 14, 15]\n",
            "Sum of all items in above list :  120\n"
          ],
          "name": "stdout"
        }
      ]
    },
    {
      "cell_type": "markdown",
      "metadata": {
        "id": "4ulBZ6yhCi9F",
        "colab_type": "text"
      },
      "source": [
        "(4) Write a Python program to get a string from a given string where all occurrences of its first char have been changed to '\\$', except the first char itself. \n",
        "\n",
        "Sample String : 'restart‘, \n",
        "\n",
        "Expected Result : 'resta\\$t'"
      ]
    },
    {
      "cell_type": "code",
      "metadata": {
        "id": "Fj0XhwbBCw2o",
        "colab_type": "code",
        "outputId": "a762b696-61cb-4791-9c35-d0d9c34ac017",
        "colab": {
          "base_uri": "https://localhost:8080/",
          "height": 51
        }
      },
      "source": [
        "# write your answer here\n",
        "\n",
        "# Using funtion to replace all occurences except first char to '$'\n",
        "def str_MultipleCharOccur_Replace(sample_str):\n",
        "  str_insenstive = sample_str.casefold()\n",
        "  replaced_str = \"\"\n",
        "  for i in range(len(str_insenstive)):\n",
        "    if str_insenstive[i] == str_insenstive[0] and i != 0:\n",
        "      replaced_str += '$'\n",
        "    else:\n",
        "      replaced_str += sample_str[i]\n",
        "  return replaced_str\n",
        "\n",
        "#Calling the above function and printing its results\n",
        "print(\"Result from replacing all occurence of first char with $ is : \\n\", str_MultipleCharOccur_Replace(\"Restart\"))"
      ],
      "execution_count": 0,
      "outputs": [
        {
          "output_type": "stream",
          "text": [
            "Result from replacing all occurence of first char with $ is : \n",
            " Resta$t\n"
          ],
          "name": "stdout"
        }
      ]
    },
    {
      "cell_type": "markdown",
      "metadata": {
        "id": "_bIP7s1MCzue",
        "colab_type": "text"
      },
      "source": [
        "(5) Write a program with python which could accept two parameter a and b to calculate and output the result of S, where \n",
        "\n",
        "$\\ S=3.14*(1+a/b)^3$\n",
        "\n"
      ]
    },
    {
      "cell_type": "code",
      "metadata": {
        "id": "w79QilHXD3Mg",
        "colab_type": "code",
        "outputId": "67466174-4fd7-43be-8252-943371aa5d7c",
        "colab": {
          "base_uri": "https://localhost:8080/",
          "height": 68
        }
      },
      "source": [
        "# write your answer here\n",
        "\n",
        "# Using funtion to throw 'Divide by Zero' error\n",
        "def error(error_desc):\n",
        "  print(error_desc)\n",
        "  return\n",
        "\n",
        "# Using funtion to accept two parameters to calculate the given output\n",
        "def calculate_S(a, b):\n",
        "  if b == 0:\n",
        "    error(\"Runtime Error: Attempt to divide by zero\")\n",
        "  return 3.14 * (1 + a/b)**3\n",
        "\n",
        "#intializing a & b variables through keyboard input\n",
        "parameter_a = int(input(\"Please enter a value for a : \"))\n",
        "parameter_b = int(input(\"Please enter a value for b : \"))\n",
        "\n",
        "#Calling the above functions and printing results \n",
        "print(\" Expected result : \", calculate_S(parameter_a, parameter_b))\n"
      ],
      "execution_count": 0,
      "outputs": [
        {
          "output_type": "stream",
          "text": [
            "Please enter a value for a : 2\n",
            "Please enter a value for b : 3\n",
            " Expected result :  14.537037037037033\n"
          ],
          "name": "stdout"
        }
      ]
    },
    {
      "cell_type": "markdown",
      "metadata": {
        "id": "xCa2bK9aD4Q3",
        "colab_type": "text"
      },
      "source": [
        "(6) Write a Python program to concatenate following dictionaries to create a new one. \n",
        "\n",
        "Sample Dictionary : dic1={1:10, 2:20}, dic2={3:30, 4:40}, dic3={5:50,6:60}, \n",
        "\n",
        "Expected Result : {1: 10, 2: 20, 3: 30, 4: 40, 5: 50, 6: 60}\n"
      ]
    },
    {
      "cell_type": "code",
      "metadata": {
        "id": "_z4aLqAbEET1",
        "colab_type": "code",
        "outputId": "7454eaf6-9cb1-4a31-e6a2-a30546b8c2bb",
        "colab": {
          "base_uri": "https://localhost:8080/",
          "height": 51
        }
      },
      "source": [
        "# write your answer here\n",
        "\n",
        "# Using funtions to concatenate given dictionaries\n",
        "def concate_Dictionary(samp_dict1,samp_dict2):\n",
        "  samp_dict1.update(samp_dict2)\n",
        "  return samp_dict1\n",
        "\n",
        "#intializing given Dictionaries\n",
        "inpt_dict1 = {\"1\":10,\"2\":20}\n",
        "inpt_dict2 = {\"3\":30,\"4\":40}\n",
        "inpt_dict3 = {\"5\":50,\"6\":60}\n",
        "\n",
        "#Calling the above functions and printing results \n",
        "concatenated_dict = inpt_dict2.copy()\n",
        "concatenated_dict = concate_Dictionary(concate_Dictionary(inpt_dict1,inpt_dict2),inpt_dict3)\n",
        "print(\"Result from above three dicts concatenation: \\n\", concatenated_dict)\n",
        "\n"
      ],
      "execution_count": 0,
      "outputs": [
        {
          "output_type": "stream",
          "text": [
            "Resulte from above three dicts concatenation: \n",
            " {'1': 10, '2': 20, '3': 30, '4': 40, '5': 50, '6': 60}\n"
          ],
          "name": "stdout"
        }
      ]
    },
    {
      "cell_type": "markdown",
      "metadata": {
        "id": "0v48Vqa7FrQh",
        "colab_type": "text"
      },
      "source": [
        "(7) Write a Python program to check whether an element exists within a tuple."
      ]
    },
    {
      "cell_type": "code",
      "metadata": {
        "id": "7WEmgq-DF2P1",
        "colab_type": "code",
        "outputId": "f3e30ffc-862c-48e0-c1d5-56027d4e3b63",
        "colab": {
          "base_uri": "https://localhost:8080/",
          "height": 153
        }
      },
      "source": [
        "# write your answer here\n",
        "\n",
        "# Using funtions to check if an element exists within a tuple\n",
        "def element_exists(samp_element, samp_tuple):\n",
        "  print(\"Input element and tuple are : \", samp_element,samp_tuple)\n",
        "  if samp_element in samp_tuple:\n",
        "    print(\"Element does exists\")\n",
        "  else:\n",
        "    print(\"Element does not exists\")\n",
        "\n",
        "#intializing sample tuples and elements to verify\n",
        "tuple1 = (\"Hello\",\"Python\",\"World\")\n",
        "tuple2 = (9,8,7)\n",
        "\n",
        "#Calling the above function and printing results \n",
        "element_exists(\"Python\",tuple1)\n",
        "element_exists(9,tuple2)\n",
        "element_exists(9,tuple1)\n",
        "element_exists(\"Python\",tuple2)"
      ],
      "execution_count": 0,
      "outputs": [
        {
          "output_type": "stream",
          "text": [
            "Input element and tuple are :  Python ('Hello', 'Python', 'World')\n",
            "Element does exists\n",
            "Input element and tuple are :  9 (9, 8, 7)\n",
            "Element does exists\n",
            "Input element and tuple are :  9 ('Hello', 'Python', 'World')\n",
            "Element does not exists\n",
            "Input element and tuple are :  Python (9, 8, 7)\n",
            "Element does not exists\n"
          ],
          "name": "stdout"
        }
      ]
    },
    {
      "cell_type": "markdown",
      "metadata": {
        "id": "vD5PYLMuGga_",
        "colab_type": "text"
      },
      "source": [
        "(8) Write a Python program to find maximum and the minimum value in a set. "
      ]
    },
    {
      "cell_type": "code",
      "metadata": {
        "id": "t0D5kdJUGjjw",
        "colab_type": "code",
        "outputId": "90f50c48-0ecc-4769-e9a7-70fbe0d662a7",
        "colab": {
          "base_uri": "https://localhost:8080/",
          "height": 119
        }
      },
      "source": [
        "# write your answer here\n",
        "\n",
        "# Using funtions to find Maximum and Minimum values in a set\n",
        "def max_Or_Min_Val(samp_set):\n",
        "  return (max(samp_set),min(samp_set))\n",
        "\n",
        "#intializing sample sets\n",
        "set1 = {i for i in range(1,25)}\n",
        "set2 = {66, 24, 99, 100, 102}\n",
        "\n",
        "#Calling the above function and printing results \n",
        "print(set1)\n",
        "print(\"Maximum value in the set is : \", max_Or_Min_Val(set1)[0])\n",
        "print(\"Minimum value in the set is : \", max_Or_Min_Val(set1)[1])\n",
        "print(set2)\n",
        "print(\"Maximum value in the set is : \", max_Or_Min_Val(set2)[0])\n",
        "print(\"Minimum value in the set is : \", max_Or_Min_Val(set2)[1])\n"
      ],
      "execution_count": 0,
      "outputs": [
        {
          "output_type": "stream",
          "text": [
            "{1, 2, 3, 4, 5, 6, 7, 8, 9, 10, 11, 12, 13, 14, 15, 16, 17, 18, 19, 20, 21, 22, 23, 24}\n",
            "Maximum value in the set is :  24\n",
            "Minimum value in the set is :  1\n",
            "{66, 99, 100, 102, 24}\n",
            "Maximum value in the set is :  102\n",
            "Minimum value in the set is :  24\n"
          ],
          "name": "stdout"
        }
      ]
    },
    {
      "cell_type": "markdown",
      "metadata": {
        "id": "uHkd-y5VhVWC",
        "colab_type": "text"
      },
      "source": [
        "(9) Write a Python program to randomly divide the students in this class into four groups for term projects. Here is the students list:\n",
        "\n",
        "studnet_list = ['sa0753','laa0240','lba0043','pb0283','vmb0067','vcd0017','ag1121','lg0426','mj0396','ak0860','vk0222','vk0216',\n",
        "                'tpk0023','nk0327','mk0830','tbl0041','al0787','am1823','sm1515','km0738','hn0139','an0521','ap0975','dp1080',\n",
        "                'pk0292','vp0241','rp0477','hr0178','ps0501','ss1976','ss1872','ss1872','bs0490','pt0218','ry0104']"
      ]
    },
    {
      "cell_type": "code",
      "metadata": {
        "id": "3iGbmcOBhTwy",
        "colab_type": "code",
        "outputId": "4823ab9a-621b-4d24-f1dc-8306597655a3",
        "colab": {
          "base_uri": "https://localhost:8080/",
          "height": 102
        }
      },
      "source": [
        "# write your answer here\n",
        "import random\n",
        "\n",
        "# Using a funtion to randomly divide into 4 groups\n",
        "def random_4groups(samp_list):\n",
        "  students_per_grp = len(samp_list)//4;\n",
        "  print(\"No. of students in a group as per total strength : \",students_per_grp)\n",
        "  for i in range(4):\n",
        "    grouped_students = random.sample(samp_list,k=students_per_grp)\n",
        "    samp_list = [i for i in samp_list if i not in grouped_students]\n",
        "    print(\"Students in Group \"+str(i+1)+\" are : \", grouped_students)\n",
        "\n",
        "#intializing given student_list\n",
        "student_list = ['sa0753','laa0240','lba0043','pb0283','vmb0067','vcd0017','ag1121','lg0426','mj0396','ak0860','vk0222','vk0216', 'tpk0023','nk0327','mk0830','tbl0041','al0787','am1823','sm1515','km0738','hn0139','an0521','ap0975','dp1080', 'pk0292','vp0241','rp0477','hr0178','ps0501','ss1976','ss1872','ss1872','bs0490','pt0218','ry0104']\n",
        "\n",
        "#Calling the above function to divide and print each group's students\n",
        "random_4groups(student_list)\n"
      ],
      "execution_count": 0,
      "outputs": [
        {
          "output_type": "stream",
          "text": [
            "No. of students in a group as per total strength :  8\n",
            "Students in Group 1 are :  ['mk0830', 'ss1872', 'lba0043', 'km0738', 'bs0490', 'hr0178', 'ss1872', 'dp1080']\n",
            "Students in Group 2 are :  ['vmb0067', 'ag1121', 'hn0139', 'sm1515', 'vk0222', 'al0787', 'vk0216', 'sa0753']\n",
            "Students in Group 3 are :  ['ps0501', 'ap0975', 'tbl0041', 'ak0860', 'pb0283', 'ss1976', 'ry0104', 'am1823']\n",
            "Students in Group 4 are :  ['vcd0017', 'an0521', 'pt0218', 'vp0241', 'rp0477', 'laa0240', 'mj0396', 'tpk0023']\n"
          ],
          "name": "stdout"
        }
      ]
    }
  ]
}